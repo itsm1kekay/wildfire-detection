{
 "cells": [
  {
   "cell_type": "markdown",
   "metadata": {},
   "source": [
    "This is for importing all the important libraries required for the script."
   ]
  },
  {
   "cell_type": "code",
   "execution_count": null,
   "metadata": {},
   "outputs": [],
   "source": [
    "import cv2\n",
    "import numpy as np\n",
    "\n",
    "from PIL import Image"
   ]
  },
  {
   "cell_type": "markdown",
   "metadata": {},
   "source": [
    "import the data, if data is a video, extract frames into temp_frames folder"
   ]
  },
  {
   "cell_type": "code",
   "execution_count": 4,
   "metadata": {},
   "outputs": [],
   "source": [
    "# dataset_path = \"videos_of_wildfires/Dramatic_evacuations_by_sea_as_forest_fires_rage_in_Italy_and_Turkey.mp4\"\n",
    "dataset_path = \"FLAME 3 CV Dataset (Sycan Marsh)/Fire/Thermal\"\n",
    "\n",
    "if os.path.exists(\"temp_frames\"):\n",
    "        shutil.rmtree(\"temp_frames\")\n",
    "\n",
    "if dataset_path.endswith((\".mp4\", \".avi\", \".mov\")):\n",
    "    os.makedirs(\"temp_frames\")\n",
    "    cap = cv2.VideoCapture(dataset_path)\n",
    "    fps = cap.get(cv2.CAP_PROP_FPS)\n",
    "    frame_count = 0\n",
    "    while True:\n",
    "        ret, frame = cap.read()\n",
    "        if not ret:\n",
    "            break \n",
    "\n",
    "        frame_filename = os.path.join(\"temp_frames\", f\"frame_{frame_count:04d}.jpg\")\n",
    "        cv2.imwrite(frame_filename, frame)\n",
    "        frame_count += 1\n",
    "    cap.release()\n",
    "    image_folder=\"temp_frames\"  \n",
    "    frame_based=False\n",
    "else:\n",
    "    image_folder = dataset_path \n",
    "    fps=3\n",
    "    frame_based=True\n",
    "\n",
    "label_folder = os.path.join(dataset_path, \"labels\")"
   ]
  },
  {
   "cell_type": "code",
   "execution_count": 5,
   "metadata": {},
   "outputs": [
    {
     "name": "stdout",
     "output_type": "stream",
     "text": [
      "Total detected fire areas: 122\n"
     ]
    }
   ],
   "source": [
    "filenames = sorted(os.listdir(image_folder))\n",
    "# read the first image for video object\n",
    "img = cv2.imread(os.path.join(image_folder, filenames[0]))\n",
    "height, width = img.shape[:2]  \n",
    "# initialise video object\n",
    "fourcc = cv2.VideoWriter_fourcc(*'mp4v')  \n",
    "out = cv2.VideoWriter(\"fire_detection.mp4\", fourcc, fps, (width, height))\n",
    "# detection counter\n",
    "detected = 0\n",
    "prev_frame = None\n",
    "\n",
    "for filename in filenames:\n",
    "    img_path = os.path.join(image_folder, filename)\n",
    "    original = cv2.imread(img_path)\n",
    "    img=original.copy()\n",
    "    if frame_based:\n",
    "        # create a mask from reference\n",
    "        hsv = cv2.cvtColor(img, cv2.COLOR_RGB2HSV)\n",
    "        S, V = hsv[:, :, 1], hsv[:, :, 2]\n",
    "        # Define a smoke mask \n",
    "        smoke_mask = (S < 50) & (V > 120)\n",
    "        # Remove smoke pixels\n",
    "        img[smoke_mask] = [0, 0, 0]      \n",
    "        # apply RGB thresholds\n",
    "        R,G,B=img[:,:,0],img[:,:,1],img[:,:,2]\n",
    "        R_mask = (R >= 80) & (R <= 255) # was 150,255\n",
    "        G_mask = (G >= 50) & (G <= 255)   \n",
    "        B_mask = (B >= 100)   & (B <= 225) # was 1,150\n",
    "        brightness=(R+G+B)/3\n",
    "        # combine and convert to binary mask\n",
    "        RGB_mask = (R_mask & (G_mask | B_mask))\n",
    "        # mask off original for cielab\n",
    "        img[~RGB_mask] = [0, 0, 0]\n",
    "    # convert the mask to CIELAB colorspace\n",
    "    mask = cv2.cvtColor(img, cv2.COLOR_RGB2LAB)\n",
    "    # split new mask into CIELAB channels\n",
    "    L,A,B=mask[:,:,0],mask[:,:,1],mask[:,:,2]\n",
    "    # apply thresholding\n",
    "    L_mask = (L >= 40) & (L <= 255) # was 100,255\n",
    "    A_mask = (A >= 0) & (A <= 160) # was 0,128\n",
    "    B_mask = (B >= 0) & (B <= 140)\n",
    "    # combine the channels to form a mask\n",
    "    fire_mask=L_mask & A_mask & B_mask \n",
    "    # binarise the mask\n",
    "    fire_mask=fire_mask.astype(np.uint8)*255\n",
    "    # perform morphological operations\n",
    "    kernel = np.ones((3, 3), np.uint8)\n",
    "    fire_mask=cv2.morphologyEx(fire_mask, cv2.MORPH_OPEN, kernel)\n",
    "    fire_mask = cv2.morphologyEx(fire_mask, cv2.MORPH_CLOSE, kernel)\n",
    "    # find contours for bounding box\n",
    "    contours, _ = cv2.findContours(fire_mask, cv2.RETR_EXTERNAL, cv2.CHAIN_APPROX_SIMPLE)\n",
    "    for contour in contours:\n",
    "        if cv2.contourArea(contour) > 100:  \n",
    "            x, y, w, h = cv2.boundingRect(contour)\n",
    "            aspect_ratio = float(w) / h\n",
    "            if 0.3 < aspect_ratio < 3:  \n",
    "                cv2.rectangle(original, (x, y), (x + w, y + h), (255, 255, 0), 2)\n",
    "                detected += 1\n",
    "    # write the image into the video object\n",
    "    out.write(original)  \n",
    "     \n",
    "# release video object\n",
    "out.release()\n",
    "# remove extraction path\n",
    "if os.path.exists(\"temp_frames\"):\n",
    "    shutil.rmtree(\"temp_frames\")\n",
    "# print the number of detected fire areas\n",
    "print(f\"Total detected fire areas: {detected}\")\n"
   ]
  }
 ],
 "metadata": {
  "kernelspec": {
   "display_name": "Python 3",
   "language": "python",
   "name": "python3"
  },
  "language_info": {
   "codemirror_mode": {
    "name": "ipython",
    "version": 3
   },
   "file_extension": ".py",
   "mimetype": "text/x-python",
   "name": "python",
   "nbconvert_exporter": "python",
   "pygments_lexer": "ipython3",
   "version": "3.12.9"
  }
 },
 "nbformat": 4,
 "nbformat_minor": 2
}
