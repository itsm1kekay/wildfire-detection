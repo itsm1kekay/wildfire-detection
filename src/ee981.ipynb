{
  "cells": [
    {
      "cell_type": "code",
      "execution_count": 46,
      "metadata": {
        "id": "l2dzfy3naIqf"
      },
      "outputs": [],
      "source": [
        "# from google.colab import drive\n",
        "# drive.mount('/content/drive')"
      ]
    },
    {
      "cell_type": "code",
      "execution_count": 47,
      "metadata": {},
      "outputs": [],
      "source": [
        "import os\n",
        "# os.listdir(\"C:\\\\Users\\\\Mukul\\\\Documents\\\\docker\\ files\\\\ee981\")\n",
        "# os.listdir('/mnt/c/Users/Mukul/Documents/docker files/ee981')"
      ]
    },
    {
      "cell_type": "code",
      "execution_count": 48,
      "metadata": {},
      "outputs": [
        {
          "name": "stdout",
          "output_type": "stream",
          "text": [
            "Looking in indexes: https://pypi.org/simple, https://pypi.ngc.nvidia.com\n",
            "Requirement already satisfied: pillow in /home/mukulnarwani/venvs/ee981/lib/python3.10/site-packages (11.1.0)\n"
          ]
        }
      ],
      "source": [
        "!pip install pillow"
      ]
    },
    {
      "cell_type": "code",
      "execution_count": 49,
      "metadata": {
        "colab": {
          "base_uri": "https://localhost:8080/",
          "height": 217
        },
        "id": "kpY0y9YEZ4qQ",
        "outputId": "a76ae148-f86b-44e9-80e0-d95ea549c005"
      },
      "outputs": [
        {
          "name": "stdout",
          "output_type": "stream",
          "text": [
            "Tensorflow version 2.18.0\n"
          ]
        }
      ],
      "source": [
        "from PIL import Image\n",
        "import glob\n",
        "import numpy as np\n",
        "import tensorflow as tf\n",
        "from tensorflow.keras.layers import Conv2D, concatenate, Input, BatchNormalization, Conv2DTranspose\n",
        "# from tensorflow.keras.models import Model\n",
        "import sklearn as skl\n",
        "import matplotlib.pyplot as plt\n",
        "import itertools\n",
        "# from keras_unet_collection import models\n",
        "import os\n",
        "\n",
        "\n",
        "\n",
        "print(\"Tensorflow version \" + tf.__version__)\n",
        "\n",
        "# -- TPU code\n",
        "# tpu = tf.distribute.cluster_resolver.TPUClusterResolver()\n",
        "# print('Running on TPU ', tpu.cluster_spec().as_dict())\n",
        "\n",
        "# tf.config.experimental_connect_to_cluster(tpu)\n",
        "# tf.tpu.experimental.initialize_tpu_system(tpu)\n",
        "\n",
        "# strategy = tf.distribute.experimental.TPUStrategy(tpu)\n",
        "# print(\"REPLICAS: \", strategy.num_replicas_in_sync)\n"
      ]
    },
    {
      "cell_type": "markdown",
      "metadata": {
        "id": "6zt4KoHxb51m"
      },
      "source": [
        "# 0.5 - Hyperparameters\n"
      ]
    },
    {
      "cell_type": "code",
      "execution_count": 50,
      "metadata": {
        "id": "g0le8ZHGb_v6"
      },
      "outputs": [],
      "source": [
        "BATCH_SIZE = 6\n",
        "VALIDATION_SPLIT = 0.1\n",
        "TEST_SPLIT = 0.15\n",
        "EPOCHS = 3\n",
        "LEARNING_RATE = 0.01\n",
        "IMAGE_SIZE = (2160,3840,3) # 3840 or 3480?\n",
        "TARGET_SIZE = (720 ,720,3)"
      ]
    },
    {
      "cell_type": "markdown",
      "metadata": {
        "id": "QMlOMGribgVF"
      },
      "source": [
        "# 1 - Preprocessing"
      ]
    },
    {
      "cell_type": "code",
      "execution_count": 51,
      "metadata": {
        "id": "RUGfsxbBZ4qS"
      },
      "outputs": [
        {
          "data": {
            "text/plain": [
              "True"
            ]
          },
          "execution_count": 51,
          "metadata": {},
          "output_type": "execute_result"
        }
      ],
      "source": [
        "\n",
        "# RGB_FIRE_PATH  = '/content/drive/MyDrive/Colab Notebooks/Colab files/EE981/Images/'\n",
        "# MASK_FIRE_PATH = '/content/drive/MyDrive/Colab Notebooks/Colab files/EE981/Masks/'\n",
        "RGB_FIRE_PATH  = '/mnt/c/Users/Mukul/Documents/docker files/ee981/EE981/Images/'\n",
        "MASK_FIRE_PATH = '/mnt/c/Users/Mukul/Documents/docker files/ee981/EE981/Masks/'\n",
        "\n",
        "img_paths = [RGB_FIRE_PATH + 'image_' + str(i) + '.jpg' for i in range(2002)]\n",
        "mask_paths  = [MASK_FIRE_PATH + 'image_' + str(i) + '.png' for i in range(2002)]\n",
        "\n",
        "import os\n",
        "os.path.exists(img_paths[1]) # sanity check\n"
      ]
    },
    {
      "cell_type": "code",
      "execution_count": 52,
      "metadata": {
        "id": "87sOM3vHsN1G"
      },
      "outputs": [],
      "source": [
        "def show_img(*img_paths):\n",
        "  for img_path in img_paths:\n",
        "    img = np.array(Image.open(img_path))\n",
        "    plt.imshow(img)\n",
        "    plt.show()"
      ]
    },
    {
      "cell_type": "code",
      "execution_count": 53,
      "metadata": {
        "id": "DWgXJ57AbqWO"
      },
      "outputs": [],
      "source": [
        "train_paths_x,test_paths_x, train_paths_y, test_paths_y  = skl.model_selection.train_test_split(img_paths, mask_paths, test_size=TEST_SPLIT) # shuffles\n",
        "# print(len(split[0]),len(split[1]))\n",
        "# train_paths, test_paths = split[0], split[1]\n",
        "\n",
        "# img = Image.open(train_paths_x[2])\n",
        "# mask = Image.open(train_paths_y[2])\n",
        "# mask = mask.point( lambda p: 255 if p == 1 else 0 )"
      ]
    },
    {
      "cell_type": "code",
      "execution_count": 54,
      "metadata": {
        "id": "iPxEOWy2lv8r"
      },
      "outputs": [],
      "source": [
        "zipped_paths = list(zip(train_paths_x,train_paths_y))\n",
        "\n",
        "img_dataset = tf.data.Dataset.from_tensor_slices(zipped_paths)\n",
        "\n",
        "def get_image(filename):\n",
        "    img = tf.io.read_file(filename[0])\n",
        "    mask = tf.io.read_file(filename[1])\n",
        "    img = tf.image.decode_jpeg(img, channels=3)\n",
        "    mask = tf.image.decode_png(mask)\n",
        "    img = tf.image.resize_with_pad(img,TARGET_SIZE[0],TARGET_SIZE[1],method = 'nearest')\n",
        "    mask = tf.image.resize_with_pad(mask,TARGET_SIZE[0],TARGET_SIZE[1], method = 'nearest')\n",
        "    # mask = tf.reshape(mask, (2160,3840,1))\n",
        "    return (img, mask)\n",
        "\n",
        "img_dataset = img_dataset.map(get_image)\n",
        "img_dataset = img_dataset.batch(BATCH_SIZE)\n",
        "\n",
        "# for img in img_dataset.take(1):\n",
        "#   plt.imshow(np.array(img[0]))\n",
        "#   plt.show()\n",
        "#   plt.imshow(np.array(img[1]))\n",
        "#   plt.show()\n",
        "# image_batch, label_batch = next(iter(img_dataset))\n",
        "# plt.imshow(np.array(label_batch))\n",
        "# img_dataset.element_spec\n"
      ]
    },
    {
      "cell_type": "markdown",
      "metadata": {
        "id": "yosuuSfUZ4qS"
      },
      "source": [
        "## Train UNET\n",
        " 1. On thermal,\n",
        " 2. On JPEG,\n",
        " 3. On Smoke\n",
        "## Make testing suite\n"
      ]
    },
    {
      "cell_type": "markdown",
      "metadata": {
        "id": "nR6RnVPeZ4qT"
      },
      "source": [
        "# 2 - Constructing the U-Net Architecture\n",
        "\n",
        "## 2.1 - U-Net Encoder Block"
      ]
    },
    {
      "cell_type": "code",
      "execution_count": 55,
      "metadata": {
        "id": "YPuDgWFGZ4qT"
      },
      "outputs": [],
      "source": [
        "def EncoderMiniBlock(inputs, n_filters=32, dropout_prob=0.3, max_pooling=True):\n",
        "    \"\"\"\n",
        "    This block uses multiple convolution layers, max pool, relu activation to create an architecture for learning.\n",
        "    Dropout can be added for regularization to prevent overfitting.\n",
        "    The block returns the activation values for next layer along with a skip connection which will be used in the decoder\n",
        "    \"\"\"\n",
        "    # Add 2 Conv Layers with relu activation and HeNormal initialization using TensorFlow\n",
        "    # Proper initialization prevents from the problem of exploding and vanishing gradients\n",
        "    # 'Same' padding will pad the input to conv layer such that the output has the same height and width (hence, is not reduced in size)\n",
        "    conv = Conv2D(n_filters,\n",
        "                  3,   # Kernel size\n",
        "                  activation='relu',\n",
        "                  padding='same',\n",
        "                  kernel_initializer='HeNormal')(inputs)\n",
        "    conv = Conv2D(n_filters,\n",
        "                  3,   # Kernel size\n",
        "                  activation='relu',\n",
        "                  padding='same',\n",
        "                  kernel_initializer='HeNormal')(conv)\n",
        "\n",
        "    # Batch Normalization will normalize the output of the last layer based on the batch's mean and standard deviation\n",
        "    conv = BatchNormalization()(conv, training=False)\n",
        "\n",
        "    # In case of overfitting, dropout will regularize the loss and gradient computation to shrink the influence of weights on output\n",
        "    if dropout_prob > 0:\n",
        "        conv = tf.keras.layers.Dropout(dropout_prob)(conv)\n",
        "\n",
        "    # Pooling reduces the size of the image while keeping the number of channels same\n",
        "    # Pooling has been kept as optional as the last encoder layer does not use pooling (hence, makes the encoder block flexible to use)\n",
        "    # Below, Max pooling considers the maximum of the input slice for output computation and uses stride of 2 to traverse across input image\n",
        "    if max_pooling:\n",
        "        next_layer = tf.keras.layers.MaxPooling2D(pool_size = (2,2))(conv)\n",
        "    else:\n",
        "        next_layer = conv\n",
        "\n",
        "    # skip connection (without max pooling) will be input to the decoder layer to prevent information loss during transpose convolutions\n",
        "    skip_connection = conv\n",
        "\n",
        "    return next_layer, skip_connection"
      ]
    },
    {
      "cell_type": "markdown",
      "metadata": {
        "id": "0Wq0_HqqZ4qU"
      },
      "source": [
        "## 2.2 - U-Net Decoder Block"
      ]
    },
    {
      "cell_type": "code",
      "execution_count": 56,
      "metadata": {
        "id": "C2AXmchoZ4qU"
      },
      "outputs": [],
      "source": [
        "def DecoderMiniBlock(prev_layer_input, skip_layer_input, n_filters=32):\n",
        "    \"\"\"\n",
        "    Decoder Block first uses transpose convolution to upscale the image to a bigger size and then,\n",
        "    merges the result with skip layer results from encoder block\n",
        "    Adding 2 convolutions with 'same' padding helps further increase the depth of the network for better predictions\n",
        "    The function returns the decoded layer output\n",
        "    \"\"\"\n",
        "    # Start with a transpose convolution layer to first increase the size of the image\n",
        "    up = Conv2DTranspose(\n",
        "                 n_filters,\n",
        "                 (3,3),    # Kernel size\n",
        "                 strides=(2,2),\n",
        "                 padding='same')(prev_layer_input)\n",
        "\n",
        "    # Merge the skip connection from previous block to prevent information loss\n",
        "    merge = concatenate([up, skip_layer_input], axis=3)\n",
        "\n",
        "    # Add 2 Conv Layers with relu activation and HeNormal initialization for further processing\n",
        "    # The parameters for the function are similar to encoder\n",
        "    conv = Conv2D(n_filters,\n",
        "                 3,     # Kernel size\n",
        "                 activation='relu',\n",
        "                 padding='same',\n",
        "                 kernel_initializer='HeNormal')(merge)\n",
        "    conv = Conv2D(n_filters,\n",
        "                 3,   # Kernel size\n",
        "                 activation='relu',\n",
        "                 padding='same',\n",
        "                 kernel_initializer='HeNormal')(conv)\n",
        "    return conv\n",
        "\n"
      ]
    },
    {
      "cell_type": "markdown",
      "metadata": {
        "id": "jClEQ7vDZ4qU"
      },
      "source": [
        "## 2.3 - Compile U-Net Blocks"
      ]
    },
    {
      "cell_type": "code",
      "execution_count": 57,
      "metadata": {
        "id": "Bu-qmVQBZ4qU"
      },
      "outputs": [],
      "source": [
        "def UNetCompiled(input_size=TARGET_SIZE, n_filters=32, n_classes=1):\n",
        "   \"\"\"\n",
        "   Combine both encoder and decoder blocks according to the U-Net research paper\n",
        "   Return the model as output\n",
        "   \"\"\"\n",
        "   # Input size represent the size of 1 image (the size used for pre-processing)\n",
        "   inputs = Input(input_size)\n",
        "\n",
        "   # Encoder includes multiple convolutional mini blocks with different maxpooling, dropout and filter parameters\n",
        "   # Observe that the filters are increasing as we go deeper into the network which will increasse the # channels of the image\n",
        "   cblock1 = EncoderMiniBlock(inputs, n_filters,dropout_prob=0, max_pooling=True)\n",
        "   cblock2 = EncoderMiniBlock(cblock1[0],n_filters*2,dropout_prob=0, max_pooling=True)\n",
        "   cblock3 = EncoderMiniBlock(cblock2[0], n_filters*4,dropout_prob=0, max_pooling=True)\n",
        "   cblock4 = EncoderMiniBlock(cblock3[0], n_filters*8,dropout_prob=0.3, max_pooling=True)\n",
        "   cblock5 = EncoderMiniBlock(cblock4[0], n_filters*16, dropout_prob=0.3, max_pooling=False)\n",
        "\n",
        "   # Decoder includes multiple mini blocks with decreasing number of filters\n",
        "   # Observe the skip connections from the encoder are given as input to the decoder\n",
        "   # Recall the 2nd output of encoder block was skip connection, hence cblockn[1] is used\n",
        "   ublock6 = DecoderMiniBlock(cblock5[0], cblock4[1],  n_filters * 8)\n",
        "   ublock7 = DecoderMiniBlock(ublock6, cblock3[1],  n_filters * 4)\n",
        "   ublock8 = DecoderMiniBlock(ublock7, cblock2[1],  n_filters * 2)\n",
        "   ublock9 = DecoderMiniBlock(ublock8, cblock1[1],  n_filters)\n",
        "\n",
        "   # Complete the model with 1 3x3 convolution layer (Same as the prev Conv Layers)\n",
        "   # Followed by a 1x1 Conv layer to get the image to the desired size.\n",
        "   # Observe the number of channels will be equal to number of output classes\n",
        "   conv9 = Conv2D(n_filters,\n",
        "               3,\n",
        "               activation='relu',\n",
        "               padding='same',\n",
        "               kernel_initializer='he_normal')(ublock9)\n",
        "\n",
        "   conv10 = Conv2D(1, 1, padding='same')(conv9)\n",
        "\n",
        "   # Define the model\n",
        "   model = tf.keras.Model(inputs=inputs, outputs=conv10)\n",
        "\n",
        "   return model"
      ]
    },
    {
      "cell_type": "code",
      "execution_count": 58,
      "metadata": {},
      "outputs": [
        {
          "data": {
            "text/plain": [
              "['Images', 'Masks']"
            ]
          },
          "execution_count": 58,
          "metadata": {},
          "output_type": "execute_result"
        }
      ],
      "source": [
        "os.listdir('/mnt/c/Users/Mukul/Documents/docker files/ee981/EE981')\n",
        "# os.path.exists('/mnt/c/Users/Mukul/Documents/docker files/ee981/Masks/image_663.png')"
      ]
    },
    {
      "cell_type": "markdown",
      "metadata": {
        "id": "S68vVzh6xmI-"
      },
      "source": [
        "# 3 - Train model\n"
      ]
    },
    {
      "cell_type": "code",
      "execution_count": 60,
      "metadata": {
        "id": "-h4Q5E64Z4qU"
      },
      "outputs": [
        {
          "name": "stdout",
          "output_type": "stream",
          "text": [
            "Epoch 1/3\n",
            "\u001b[1m284/284\u001b[0m \u001b[32m━━━━━━━━━━━━━━━━━━━━\u001b[0m\u001b[37m\u001b[0m \u001b[1m86s\u001b[0m 275ms/step - accuracy: 0.9966 - io_u_1: 0.0076 - loss: 0.0533 - precision_4: 0.0157 - recall_4: 5.8977e-04\n",
            "Epoch 2/3\n"
          ]
        },
        {
          "name": "stderr",
          "output_type": "stream",
          "text": [
            "/home/mukulnarwani/venvs/ee981/lib/python3.10/site-packages/keras/src/callbacks/early_stopping.py:153: UserWarning: Early stopping conditioned on metric `val_loss` which is not available. Available metrics are: accuracy,io_u_1,loss,precision_4,recall_4\n",
            "  current = self.get_monitor_value(logs)\n"
          ]
        },
        {
          "name": "stdout",
          "output_type": "stream",
          "text": [
            "\u001b[1m284/284\u001b[0m \u001b[32m━━━━━━━━━━━━━━━━━━━━\u001b[0m\u001b[37m\u001b[0m \u001b[1m132s\u001b[0m 256ms/step - accuracy: 0.9967 - io_u_1: 0.0000e+00 - loss: 0.0526 - precision_4: 0.0000e+00 - recall_4: 0.0000e+00\n",
            "Epoch 3/3\n",
            "\u001b[1m284/284\u001b[0m \u001b[32m━━━━━━━━━━━━━━━━━━━━\u001b[0m\u001b[37m\u001b[0m \u001b[1m71s\u001b[0m 249ms/step - accuracy: 0.9967 - io_u_1: 0.0000e+00 - loss: 0.0526 - precision_4: 0.0000e+00 - recall_4: 0.0000e+00\n"
          ]
        }
      ],
      "source": [
        "model = UNetCompiled()\n",
        "#model = models.unet_2d((None, None, 3), [64, 128, 256, 512, 1024], n_labels=2,\n",
        "    #                  stack_num_down=2, stack_num_up=1,\n",
        "     #                activation='ReLU', output_activation='Softmax',\n",
        "     #                 batch_norm=True, pool='max', unpool='nearest', name='unet')\n",
        "\n",
        "# tf.keras.utils.plot_model(model, \"my_first_model.png\")\n",
        "model.compile(optimizer=tf.optimizers.Adam(learning_rate=LEARNING_RATE),\n",
        "                  loss='binary_crossentropy',\n",
        "                  metrics=[ tf.keras.metrics.Precision(),\n",
        "                           tf.keras.metrics.Recall(),\n",
        "                           tf.keras.metrics.IoU(num_classes = 2,target_class_ids=[1]),\n",
        "                           'accuracy'])\n",
        "# x = img_dataset.map(lambda x,y: x)\n",
        "# y = img_dataset.map(lambda x,y: y)\n",
        "# with lower filter can increase batch size>10\n",
        "history = model.fit(img_dataset,\n",
        "                    # batch_size = BATCH_SIZE,\n",
        "                    epochs = EPOCHS,\n",
        "                    # verbose = 0,\n",
        "                    # validation_split = 0.15,\n",
        "                    callbacks = [ tf.keras.callbacks.EarlyStopping(monitor='val_loss', patience=2) ]\n",
        "                    )"
      ]
    },
    {
      "cell_type": "markdown",
      "metadata": {},
      "source": [
        "# Things to try\n",
        "- Reducing the filter size is critical to reduce the memory.\n",
        "- Replacing upconvolution by interpolation\n",
        "- Removing maxpool in favor of a convolution with stride\n",
        "- Use in-place relu"
      ]
    },
    {
      "cell_type": "markdown",
      "metadata": {
        "id": "OFIYr8erDL0Q"
      },
      "source": [
        "# 4 - Plot and evaluate"
      ]
    },
    {
      "cell_type": "code",
      "execution_count": 65,
      "metadata": {
        "id": "jay3BicDSP1t"
      },
      "outputs": [
        {
          "name": "stdout",
          "output_type": "stream",
          "text": [
            "(720, 720, 3)\n",
            "\u001b[1m1/1\u001b[0m \u001b[32m━━━━━━━━━━━━━━━━━━━━\u001b[0m\u001b[37m\u001b[0m \u001b[1m1s\u001b[0m 597ms/step\n"
          ]
        }
      ],
      "source": [
        "zipped_paths = list(zip(test_paths_x,test_paths_y))\n",
        "\n",
        "img_dataset = tf.data.Dataset.from_tensor_slices(zipped_paths)\n",
        "\n",
        "def get_image(filename):\n",
        "    img = tf.io.read_file(filename[0])\n",
        "    mask = tf.io.read_file(filename[1])\n",
        "    img = tf.image.decode_jpeg(img, channels=3)\n",
        "    mask = tf.image.decode_png(mask)\n",
        "    img = tf.image.resize_with_pad(img,TARGET_SIZE[0],TARGET_SIZE[1],method = 'nearest')\n",
        "    mask = tf.image.resize_with_pad(mask,TARGET_SIZE[0],TARGET_SIZE[1], method = 'nearest')\n",
        "    # mask = tf.reshape(mask, (2160,3840,1))\n",
        "    return (img, mask)\n",
        "\n",
        "test_dataset = img_dataset.map(get_image)\n",
        "# test_dataset = test_dataset.batch(BATCH_SIZE)\n",
        "input_img = next(itertools.islice(iter(test_dataset),3,4))\n",
        "print(input_img[0].shape)\n",
        "mask = model.predict(np.array([input_img[0]]))\n",
        "\n",
        "# for i,img in enumerate(test_dataset.take(5)):\n",
        "#   if i ==3:\n",
        "#     plt.imshow(np.array(img[0]))\n",
        "#     # plt.show()\n",
        "#     plt.imshow(np.array(img[1]))\n",
        "#     # plt.show()\n",
        "#     print(np.array(img[0]).shape)\n",
        "#     model.predict(img[0])"
      ]
    },
    {
      "cell_type": "code",
      "execution_count": 66,
      "metadata": {
        "id": "KJt0BMemVGiw"
      },
      "outputs": [
        {
          "name": "stdout",
          "output_type": "stream",
          "text": [
            "(720, 720, 1)\n",
            "-84952260000.0\n",
            "[0 1]\n"
          ]
        },
        {
          "data": {
            "image/png": "[encoded data removed]",
            "text/plain": [
              "<Figure size 640x480 with 3 Axes>"
            ]
          },
          "metadata": {},
          "output_type": "display_data"
        }
      ],
      "source": [
        "fig,(ax1,ax2,ax3) = plt.subplots(3,1)\n",
        "print(input_img[1].shape)\n",
        "# np.array(list(input_img))\n",
        "ax1.imshow(input_img[0])\n",
        "ax2.imshow(input_img[1])\n",
        "# ax3.imshow(mask[0])\n",
        "# THRESH = -10000000000\n",
        "# threshed_mask = np.where(mask[0] < -THRESH, 0, 1)\n",
        "ax3.imshow(input_img[1])\n",
        "print(np.min(mask[0]))\n",
        "print(np.unique(input_img[1]))"
      ]
    },
    {
      "cell_type": "code",
      "execution_count": 68,
      "metadata": {},
      "outputs": [],
      "source": [
        "# model.save('working_unet_720_720.keras')"
      ]
    },
    {
      "cell_type": "code",
      "execution_count": 69,
      "metadata": {
        "id": "86BXHNz3DK0h"
      },
      "outputs": [
        {
          "ename": "KeyError",
          "evalue": "'val_loss'",
          "output_type": "error",
          "traceback": [
            "\u001b[0;31m---------------------------------------------------------------------------\u001b[0m",
            "\u001b[0;31mKeyError\u001b[0m                                  Traceback (most recent call last)",
            "Cell \u001b[0;32mIn[69], line 4\u001b[0m\n\u001b[1;32m      2\u001b[0m plt\u001b[38;5;241m.\u001b[39mtitle(\u001b[38;5;124m'\u001b[39m\u001b[38;5;124mloss\u001b[39m\u001b[38;5;124m'\u001b[39m)\n\u001b[1;32m      3\u001b[0m plt\u001b[38;5;241m.\u001b[39mplot(history\u001b[38;5;241m.\u001b[39mhistory[\u001b[38;5;124m'\u001b[39m\u001b[38;5;124mloss\u001b[39m\u001b[38;5;124m'\u001b[39m], label\u001b[38;5;241m=\u001b[39m\u001b[38;5;124m'\u001b[39m\u001b[38;5;124mtrain\u001b[39m\u001b[38;5;124m'\u001b[39m)\n\u001b[0;32m----> 4\u001b[0m plt\u001b[38;5;241m.\u001b[39mplot(\u001b[43mhistory\u001b[49m\u001b[38;5;241;43m.\u001b[39;49m\u001b[43mhistory\u001b[49m\u001b[43m[\u001b[49m\u001b[38;5;124;43m'\u001b[39;49m\u001b[38;5;124;43mval_loss\u001b[39;49m\u001b[38;5;124;43m'\u001b[39;49m\u001b[43m]\u001b[49m, label\u001b[38;5;241m=\u001b[39m\u001b[38;5;124m'\u001b[39m\u001b[38;5;124mval\u001b[39m\u001b[38;5;124m'\u001b[39m)\n\u001b[1;32m      5\u001b[0m plt\u001b[38;5;241m.\u001b[39mlegend()\n\u001b[1;32m      6\u001b[0m plt\u001b[38;5;241m.\u001b[39mshow()\n",
            "\u001b[0;31mKeyError\u001b[0m: 'val_loss'"
          ]
        },
        {
          "data": {
            "image/png": "[encoded data removed]",
            "text/plain": [
              "<Figure size 640x480 with 1 Axes>"
            ]
          },
          "metadata": {},
          "output_type": "display_data"
        }
      ],
      "source": [
        "plt.subplot(212)\n",
        "plt.title('loss')\n",
        "plt.plot(history.history['loss'], label='train')\n",
        "plt.plot(history.history['val_loss'], label='val')\n",
        "plt.legend()\n",
        "plt.show()"
      ]
    },
    {
      "cell_type": "markdown",
      "metadata": {
        "id": "N5bSxuapeXFn"
      },
      "source": [
        "# 10 - TODO\n",
        "\n",
        "1. Use cutouts, don't train on entire image"
      ]
    }
  ],
  "metadata": {
    "accelerator": "GPU",
    "colab": {
      "gpuType": "T4",
      "provenance": []
    },
    "kernelspec": {
      "display_name": "Python 3",
      "name": "python3"
    },
    "language_info": {
      "codemirror_mode": {
        "name": "ipython",
        "version": 3
      },
      "file_extension": ".py",
      "mimetype": "text/x-python",
      "name": "python",
      "nbconvert_exporter": "python",
      "pygments_lexer": "ipython3",
      "version": "3.10.6"
    }
  },
  "nbformat": 4,
  "nbformat_minor": 0
}
