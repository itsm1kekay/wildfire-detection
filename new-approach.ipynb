{
 "cells": [
  {
   "cell_type": "code",
   "execution_count": null,
   "metadata": {},
   "outputs": [
    {
     "name": "stdout",
     "output_type": "stream",
     "text": [
      "Total Detections: 1401\n"
     ]
    }
   ],
   "source": [
    "import cv2\n",
    "import numpy as np\n",
    "import pywt"
   ]
  },
  {
   "cell_type": "code",
   "execution_count": null,
   "metadata": {},
   "outputs": [],
   "source": [
    "dataset_path = \"videos_of_wildfires/Dramatic_evacuations_by_sea_as_forest_fires_rage_in_Italy_and_Turkey.mp4\""
   ]
  },
  {
   "cell_type": "code",
   "execution_count": null,
   "metadata": {},
   "outputs": [],
   "source": [
    "if dataset_path.endswith((\".mp4\", \".avi\", \".mov\")):\n",
    "    cap = cv2.VideoCapture(dataset_path)\n",
    "\n",
    "    prev_frame = None\n",
    "    detection_count = 0\n",
    "\n",
    "    while cap.isOpened():\n",
    "        ret, frame = cap.read()\n",
    "        if not ret:\n",
    "            break\n",
    "\n",
    "        hsv = cv2.cvtColor(frame, cv2.COLOR_BGR2HSV)\n",
    "        lab = cv2.cvtColor(frame, cv2.COLOR_BGR2LAB)\n",
    "        gray = cv2.cvtColor(frame, cv2.COLOR_BGR2GRAY)\n",
    "\n",
    "        lower_fire_hsv = np.array([5, 150, 150])  \n",
    "        upper_fire_hsv = np.array([25, 255, 255])  \n",
    "        fire_mask_hsv = cv2.inRange(hsv, lower_fire_hsv, upper_fire_hsv)\n",
    "\n",
    "        a_channel = lab[:, :, 1]\n",
    "        _, fire_mask_lab = cv2.threshold(a_channel, 160, 255, cv2.THRESH_BINARY)\n",
    "\n",
    "        red_channel = frame[:, :, 2]\n",
    "        _, fire_mask_rgb = cv2.threshold(red_channel, 190, 255, cv2.THRESH_BINARY)\n",
    "\n",
    "        combined_fire_mask = cv2.bitwise_or(cv2.bitwise_or(fire_mask_hsv, fire_mask_rgb), fire_mask_lab)\n",
    "\n",
    "        kernel = np.ones((3, 3), np.uint8)\n",
    "        combined_fire_mask = cv2.morphologyEx(combined_fire_mask, cv2.MORPH_ERODE, kernel)\n",
    "\n",
    "        clahe = cv2.createCLAHE(clipLimit=2.0, tileGridSize=(8, 8))\n",
    "        normalized_gray = clahe.apply(gray)\n",
    "\n",
    "        blur1 = cv2.GaussianBlur(normalized_gray, (5, 5), 1)\n",
    "        blur2 = cv2.GaussianBlur(normalized_gray, (11, 11), 2)\n",
    "        dog = cv2.absdiff(blur1, blur2)\n",
    "\n",
    "        coeffs2 = pywt.dwt2(dog, 'haar')\n",
    "        LL, (LH, HL, HH) = coeffs2\n",
    "        wavelet_enhanced = cv2.convertScaleAbs(HH)\n",
    "\n",
    "        fire_detected = False\n",
    "        fire_contours, _ = cv2.findContours(combined_fire_mask, cv2.RETR_EXTERNAL, cv2.CHAIN_APPROX_SIMPLE)\n",
    "\n",
    "        for cnt in fire_contours:\n",
    "            area = cv2.contourArea(cnt)\n",
    "\n",
    "            if area > 250:  \n",
    "                x, y, w, h = cv2.boundingRect(cnt)\n",
    "\n",
    "                region = gray[y:y+h, x:x+w]\n",
    "                edges = cv2.Canny(region, 50, 150)\n",
    "                edge_density = np.sum(edges) / (w * h)\n",
    "\n",
    "                if edge_density < 0.02:  \n",
    "                    continue\n",
    "\n",
    "                cv2.rectangle(frame, (x, y), (x + w, y + h), (0, 255, 0), 2)\n",
    "                fire_detected = True\n",
    "\n",
    "        if prev_frame is not None:\n",
    "            diff = cv2.absdiff(prev_frame, gray)\n",
    "            _, flicker_mask = cv2.threshold(diff, 20, 255, cv2.THRESH_BINARY)\n",
    "\n",
    "            flicker_pixels = np.count_nonzero(flicker_mask)\n",
    "\n",
    "            if fire_detected and flicker_pixels < 1000:  \n",
    "                fire_detected = False\n",
    "\n",
    "        prev_frame = gray.copy()\n",
    "\n",
    "        if fire_detected:\n",
    "            detection_count += 1\n",
    "            cv2.putText(frame, \"WILDFIRE DETECTED!\", (50, 50),\n",
    "                        cv2.FONT_HERSHEY_SIMPLEX, 1, (0, 0, 255), 3)\n",
    "\n",
    "        cv2.imshow(\"Fire Mask\", combined_fire_mask)\n",
    "        cv2.imshow(\"Frame\", frame)\n",
    "\n",
    "        if cv2.waitKey(1) & 0xFF == ord('q'):\n",
    "            break\n",
    "\n",
    "    cap.release()\n",
    "    cv2.destroyAllWindows()\n",
    "\n",
    "print(f\"Total Detections: {detection_count}\")\n"
   ]
  }
 ],
 "metadata": {
  "kernelspec": {
   "display_name": "Python 3",
   "language": "python",
   "name": "python3"
  },
  "language_info": {
   "codemirror_mode": {
    "name": "ipython",
    "version": 3
   },
   "file_extension": ".py",
   "mimetype": "text/x-python",
   "name": "python",
   "nbconvert_exporter": "python",
   "pygments_lexer": "ipython3",
   "version": "3.12.9"
  }
 },
 "nbformat": 4,
 "nbformat_minor": 2
}
