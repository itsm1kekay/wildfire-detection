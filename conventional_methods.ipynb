{
 "cells": [
  {
   "cell_type": "markdown",
   "metadata": {},
   "source": [
    "This is for importing all the important libraries required for the script."
   ]
  },
  {
   "cell_type": "code",
   "execution_count": 20,
   "metadata": {},
   "outputs": [],
   "source": [
    "import cv2\n",
    "import numpy as np\n",
    "import os\n",
    "import shutil\n",
    "import matplotlib.pyplot as plt\n",
    "from PIL import Image"
   ]
  },
  {
   "cell_type": "markdown",
   "metadata": {},
   "source": [
    "import the data, if data is a video, extract frames into temp_frames folder"
   ]
  },
  {
   "cell_type": "code",
   "execution_count": 21,
   "metadata": {},
   "outputs": [],
   "source": [
    "dataset_path = \"videos_of_wildfires/Drones_vs._Californias_wildfires__How_theyre_helping_firefighters.mp4\"\n",
    "\n",
    "if os.path.exists(\"temp_frames\"):\n",
    "        shutil.rmtree(\"temp_frames\")\n",
    "\n",
    "if dataset_path.endswith((\".mp4\", \".avi\", \".mov\")):\n",
    "    os.makedirs(\"temp_frames\")\n",
    "    cap = cv2.VideoCapture(dataset_path)\n",
    "    fps = cap.get(cv2.CAP_PROP_FPS)\n",
    "    frame_count = 0\n",
    "    while True:\n",
    "        ret, frame = cap.read()\n",
    "        if not ret:\n",
    "            break \n",
    "\n",
    "        frame_filename = os.path.join(\"temp_frames\", f\"frame_{frame_count:04d}.jpg\")\n",
    "        cv2.imwrite(frame_filename, frame)\n",
    "        frame_count += 1\n",
    "    cap.release()\n",
    "    image_folder=\"temp_frames\"  \n",
    "else:\n",
    "    image_folder = dataset_path \n",
    "    fps=24\n",
    "\n",
    "label_folder = os.path.join(dataset_path, \"labels\")"
   ]
  },
  {
   "cell_type": "markdown",
   "metadata": {},
   "source": [
    "CHECK LOGBOOK FOR BANGER IDEA"
   ]
  },
  {
   "cell_type": "code",
   "execution_count": 22,
   "metadata": {},
   "outputs": [],
   "source": [
    "filenames = sorted(os.listdir(image_folder))\n",
    "\n",
    "first_image = cv2.imread(os.path.join(image_folder, filenames[0]))\n",
    "if first_image is None:\n",
    "    raise ValueError(\"Error: Could not read the first image.\")\n",
    "\n",
    "height, width = first_image.shape[:2]  \n",
    "\n",
    "fourcc = cv2.VideoWriter_fourcc(*'mp4v')  \n",
    "out = cv2.VideoWriter(\"fire_detection.mp4\", fourcc, fps, (width, height))\n",
    "\n",
    "if not out.isOpened():\n",
    "    raise ValueError(\"⚠ Error: VideoWriter failed to initialize.\")\n",
    "\n",
    "detected = 0\n",
    "\n",
    "for filename in filenames:\n",
    "    img_path = os.path.join(image_folder, filename)\n",
    "    img = cv2.imread(img_path) \n",
    "    # img=cv2.cvtColor(img,cv2.COLOR_BGR2RGB)\n",
    "    mask = cv2.cvtColor(img, cv2.COLOR_RGB2LAB)\n",
    "    # L,A,B=cv2.split(mask)\n",
    "    L=mask[:,:,0]\n",
    "    A=mask[:,:,1]\n",
    "    B=mask[:,:,2]\n",
    "    # L_lower, L_upper = 100.57, 204.50\n",
    "    # A_lower, A_upper = 139.53, 184.07\n",
    "    # B_lower, B_upper = 180.01, 201.76\n",
    "    L_lower, L_upper = 100, 255 \n",
    "    A_lower, A_upper = 0, 128 # best for detection is 0,128\n",
    "    B_lower, B_upper = 0, 128\n",
    "\n",
    "    actual_label = None  \n",
    "    # if actual_labels_available:\n",
    "    #     label_path = os.path.join(label_folder, filename.replace('.jpg', '.txt'))\n",
    "    #     if os.path.exists(label_path):\n",
    "    #         with open(label_path, 'r') as f:\n",
    "    #             label_content = f.read().strip()\n",
    "    #             actual_label = int(label_content) if label_content.isdigit() else 0\n",
    "\n",
    "    L_mask = (L >= L_lower) & (L <= L_upper)\n",
    "    A_mask = (A >= A_lower) & (A <= A_upper)\n",
    "    B_mask = (B >= B_lower) & (B <= B_upper)\n",
    "\n",
    "    fire_mask=L_mask & A_mask & B_mask\n",
    "    fire_mask=fire_mask.astype(np.uint8)*255\n",
    "    # kernel = np.ones((5, 5), np.uint8)\n",
    "    \n",
    "    # fire_mask=cv2.morphologyEx(fire_mask, cv2.MORPH_OPEN, kernel)\n",
    "    # fire_mask = cv2.morphologyEx(fire_mask, cv2.MORPH_CLOSE, kernel)\n",
    "    colored_fire=np.zeros_like(img)\n",
    "    colored_fire[fire_mask ==255]=img[fire_mask==255]\n",
    "\n",
    "    contours, _ = cv2.findContours(fire_mask, cv2.RETR_EXTERNAL, cv2.CHAIN_APPROX_SIMPLE)\n",
    "    for contour in contours:\n",
    "        if cv2.contourArea(contour) > 250:  \n",
    "            x, y, w, h = cv2.boundingRect(contour)\n",
    "            cv2.rectangle(img, (x, y), (x + w, y + h), (0, 255, 255), 2)\n",
    "            detected += 1   \n",
    "\n",
    "    out.write(img)  \n",
    "     \n",
    "\n",
    "out.release()"
   ]
  },
  {
   "cell_type": "code",
   "execution_count": 23,
   "metadata": {},
   "outputs": [
    {
     "data": {
      "text/plain": [
       "np.uint8(0)"
      ]
     },
     "execution_count": 23,
     "metadata": {},
     "output_type": "execute_result"
    }
   ],
   "source": [
    "max_value=np.min(L)\n",
    "max_value"
   ]
  },
  {
   "cell_type": "code",
   "execution_count": 24,
   "metadata": {},
   "outputs": [
    {
     "data": {
      "image/png": "[encoded data removed]",
      "text/plain": [
       "<Figure size 1500x500 with 3 Axes>"
      ]
     },
     "metadata": {},
     "output_type": "display_data"
    }
   ],
   "source": [
    "plt.figure(figsize=(15, 5))\n",
    "\n",
    "plt.subplot(1, 3, 1)\n",
    "plt.imshow(img)\n",
    "plt.title(\"Original Image\")\n",
    "\n",
    "plt.subplot(1, 3, 2)\n",
    "plt.imshow(fire_mask, cmap=\"gray\")\n",
    "plt.title(\"Fire Mask\")\n",
    "\n",
    "plt.subplot(1, 3, 3)\n",
    "plt.imshow(colored_fire)\n",
    "plt.title(\"Masked Fire Overlay\")\n",
    "\n",
    "plt.show()"
   ]
  },
  {
   "cell_type": "code",
   "execution_count": 25,
   "metadata": {},
   "outputs": [
    {
     "ename": "NameError",
     "evalue": "name 'actual_labels_available' is not defined",
     "output_type": "error",
     "traceback": [
      "\u001b[31m---------------------------------------------------------------------------\u001b[39m",
      "\u001b[31mNameError\u001b[39m                                 Traceback (most recent call last)",
      "\u001b[36mCell\u001b[39m\u001b[36m \u001b[39m\u001b[32mIn[25]\u001b[39m\u001b[32m, line 1\u001b[39m\n\u001b[32m----> \u001b[39m\u001b[32m1\u001b[39m \u001b[38;5;28;01mif\u001b[39;00m \u001b[43mactual_labels_available\u001b[49m:\n\u001b[32m      2\u001b[39m         valid_comparisons = [x \u001b[38;5;28;01mfor\u001b[39;00m x \u001b[38;5;129;01min\u001b[39;00m computed_labels \u001b[38;5;28;01mif\u001b[39;00m x[\u001b[32m2\u001b[39m] \u001b[38;5;129;01mis\u001b[39;00m \u001b[38;5;129;01mnot\u001b[39;00m \u001b[38;5;28;01mNone\u001b[39;00m]  \n\u001b[32m      3\u001b[39m         correct = \u001b[38;5;28msum\u001b[39m(\u001b[32m1\u001b[39m \u001b[38;5;28;01mfor\u001b[39;00m _, c, a \u001b[38;5;129;01min\u001b[39;00m valid_comparisons \u001b[38;5;28;01mif\u001b[39;00m c == a)\n",
      "\u001b[31mNameError\u001b[39m: name 'actual_labels_available' is not defined"
     ]
    }
   ],
   "source": [
    "if actual_labels_available:\n",
    "        valid_comparisons = [x for x in computed_labels if x[2] is not None]  \n",
    "        correct = sum(1 for _, c, a in valid_comparisons if c == a)\n",
    "        accuracy = correct / len(valid_comparisons) * 100 if valid_comparisons else 0\n",
    "        print(f'✅ Accuracy: {accuracy:.2f}%')\n",
    "else:\n",
    "    print(\"⚠ No labels found. Skipping accuracy evaluation.\")\n",
    "\n",
    "if os.path.exists(\"temp_frames\"):\n",
    "        shutil.rmtree(\"temp_frames\")"
   ]
  }
 ],
 "metadata": {
  "kernelspec": {
   "display_name": "Python 3",
   "language": "python",
   "name": "python3"
  },
  "language_info": {
   "codemirror_mode": {
    "name": "ipython",
    "version": 3
   },
   "file_extension": ".py",
   "mimetype": "text/x-python",
   "name": "python",
   "nbconvert_exporter": "python",
   "pygments_lexer": "ipython3",
   "version": "3.13.2"
  }
 },
 "nbformat": 4,
 "nbformat_minor": 2
}
