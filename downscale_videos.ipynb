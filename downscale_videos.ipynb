{
 "cells": [
  {
   "cell_type": "code",
   "execution_count": 19,
   "metadata": {},
   "outputs": [],
   "source": [
    "import cv2\n",
    "import os"
   ]
  },
  {
   "cell_type": "code",
   "execution_count": 20,
   "metadata": {},
   "outputs": [],
   "source": [
    "input_video_path = \"databases/FLAME_2/RGB Video 7.mp4\"\n",
    "output_video_path = \"databases/FLAME_2/RGB Video 7_720.mp4\""
   ]
  },
  {
   "cell_type": "code",
   "execution_count": null,
   "metadata": {},
   "outputs": [
    {
     "name": "stdout",
     "output_type": "stream",
     "text": [
      "Original Video Size: 1920x1080\n",
      "Resizing to: 1280x720\n",
      "Processed 7192 frames. Video saved to: databases/FLAME_2/RGB Video 7_720.mp4\n"
     ]
    },
    {
     "ename": "",
     "evalue": "",
     "output_type": "error",
     "traceback": [
      "\u001b[1;31mThe Kernel crashed while executing code in the current cell or a previous cell. \n",
      "\u001b[1;31mPlease review the code in the cell(s) to identify a possible cause of the failure. \n",
      "\u001b[1;31mClick <a href='https://aka.ms/vscodeJupyterKernelCrash'>here</a> for more info. \n",
      "\u001b[1;31mView Jupyter <a href='command:jupyter.viewOutput'>log</a> for further details."
     ]
    }
   ],
   "source": [
    "cap=cv2.VideoCapture(input_video_path)\n",
    "\n",
    "if not cap.isOpened():\n",
    "    raise ValueError(\"Error: Could not open video file.\")\n",
    "\n",
    "width = int(cap.get(cv2.CAP_PROP_FRAME_WIDTH))\n",
    "height = int(cap.get(cv2.CAP_PROP_FRAME_HEIGHT))\n",
    "fps = cap.get(cv2.CAP_PROP_FPS)\n",
    "frame_count = int(cap.get(cv2.CAP_PROP_FRAME_COUNT))\n",
    "\n",
    "print(f\"Original Video Size: {width}x{height}\")\n",
    "\n",
    "if width > 1280 or height > 720:\n",
    "    new_width = 1280\n",
    "    new_height = 720\n",
    "    resize_ratio = min(new_width / width, new_height / height)\n",
    "    dim = (int(width * resize_ratio), int(height * resize_ratio))\n",
    "    \n",
    "    print(f\"Resizing to: {dim[0]}x{dim[1]}\")\n",
    "else:\n",
    "    dim = (width, height)\n",
    "\n",
    "fourcc = cv2.VideoWriter_fourcc(*'mp4v')\n",
    "out = cv2.VideoWriter(output_video_path, fourcc, fps, dim)\n",
    "\n",
    "if not out.isOpened():\n",
    "    raise ValueError(\"Error: Could not initialize VideoWriter.\")\n",
    "\n",
    "frame_count = 0\n",
    "\n",
    "while True:\n",
    "    ret, frame = cap.read()\n",
    "    if not ret:\n",
    "        break  \n",
    "\n",
    "    if dim != (width, height):\n",
    "        frame = cv2.resize(frame, dim, interpolation=cv2.INTER_AREA)\n",
    "\n",
    "    out.write(frame)\n",
    "    frame_count += 1\n",
    "\n",
    "cap.release()\n",
    "out.release()\n",
    "\n",
    "print(f\"Processed {frame_count} frames. Video saved to: {output_video_path}\")"
   ]
  }
 ],
 "metadata": {
  "kernelspec": {
   "display_name": "Python 3",
   "language": "python",
   "name": "python3"
  },
  "language_info": {
   "codemirror_mode": {
    "name": "ipython",
    "version": 3
   },
   "file_extension": ".py",
   "mimetype": "text/x-python",
   "name": "python",
   "nbconvert_exporter": "python",
   "pygments_lexer": "ipython3",
   "version": "3.13.2"
  }
 },
 "nbformat": 4,
 "nbformat_minor": 2
}
